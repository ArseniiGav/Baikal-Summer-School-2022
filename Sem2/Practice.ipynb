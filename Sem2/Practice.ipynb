{
 "cells": [
  {
   "cell_type": "markdown",
   "metadata": {},
   "source": [
    "# Практика"
   ]
  },
  {
   "cell_type": "code",
   "execution_count": null,
   "metadata": {},
   "outputs": [],
   "source": [
    "import pandas as pd\n",
    "import numpy as np\n",
    "import os"
   ]
  },
  {
   "cell_type": "markdown",
   "metadata": {},
   "source": [
    "- 1) Загружаем данные. Имя файлов: data/output_20k-*.npz\n",
    "\n",
    "   Информация о хитах по ключу hits\n",
    "   \n",
    "   Информация о энергии, координатам и импульсе события по ключу primaries"
   ]
  },
  {
   "cell_type": "code",
   "execution_count": null,
   "metadata": {},
   "outputs": [],
   "source": [
    "files = os.listdir('data')\n",
    "files.sort()"
   ]
  },
  {
   "cell_type": "code",
   "execution_count": null,
   "metadata": {},
   "outputs": [],
   "source": [
    "data = np.load(f\"data/{files[1]}\", allow_pickle=True)\n",
    "all_hits = data['hits']\n",
    "all_primaries = data['primaries']\n",
    "\n",
    "for file in files[2:10]:\n",
    "    data = np.load(f\"data/{file}\", allow_pickle=True)\n",
    "    hits = data['hits']\n",
    "    primaries = data['primaries']\n",
    "\n",
    "    all_hits = np.append(all_hits, hits)\n",
    "    all_primaries = np.append(all_primaries, primaries)"
   ]
  },
  {
   "cell_type": "markdown",
   "metadata": {},
   "source": [
    "- 2) Ознакомьтесь с размерностью массивов и их структурой (*полезно: .shape)"
   ]
  },
  {
   "cell_type": "code",
   "execution_count": null,
   "metadata": {},
   "outputs": [],
   "source": []
  },
  {
   "cell_type": "markdown",
   "metadata": {},
   "source": [
    "- 3) Создадим список со всеми энергиями событий. Энергия будет для нас целевой переменной"
   ]
  },
  {
   "cell_type": "code",
   "execution_count": null,
   "metadata": {},
   "outputs": [],
   "source": []
  },
  {
   "cell_type": "markdown",
   "metadata": {},
   "source": [
    "- 4) hits — это список сработавших ячеек в событии: [ [ix, iy, nHits, fHitTime_ns],  ... ]\n",
    "\n",
    "#### Давайте визуалируем событие. Напишите функцию отрисовки, используя Plotly.\n",
    "- У нас имеется два канала информации --- количество хитов на каждом модуле и время первого попадания (first hit time). Будет изображать их отдельно рядом друг с другом (plotly.subplots.make_subplots):\n",
    "```python\n",
    "    fig = make_subplots(\n",
    "        rows=1, cols=2, column_widths=[0.5, 0.5],\n",
    "        specs=[[{'type': 'scene'}, {'type': 'scene'}]]\n",
    "    )\n",
    "```\n",
    "- Для визуализации зависимости значения от цвета можно использовать:\n",
    "```python \n",
    "marker=dict(colorscale=your_colorscale)\n",
    "```\n",
    "\n",
    "- Для создания пустой сетки предлагаю использовать просто Scatter3d: \n",
    "```python \n",
    "    x_size = 16\n",
    "    y_size = 16\n",
    "    x_grid = np.arange(x_size)\n",
    "    y_grid = np.arange(y_size)\n",
    "    grid =  np.array(\n",
    "        list(itertools.product(x_grid, y_grid))\n",
    "    ) \n",
    "    \n",
    "    grid_trace = go.Scatter3d(\n",
    "                x=grid[:, 0],\n",
    "                y=grid[:, 1],\n",
    "                z=np.zeros(grid.shape[0]),\n",
    "                mode='markers',\n",
    "                showlegend=False,\n",
    "                marker=dict(\n",
    "                    symbol='square',\n",
    "                    color='rgb(100, 100, 100)',\n",
    "                    opacity=0.8\n",
    "                )\n",
    "            )\n",
    "    \n",
    "    fig.add_trace(grid_trace, row=1, col=1)\n",
    "    fig.add_trace(grid_trace, row=1, col=2)\n",
    "```\n",
    "\n",
    "- Изобразите кол-во хитов и время первого попадания на базовой сетке, которую мы задали выше, используя различные цветовые гаммы \n",
    "\n",
    "- Изобразите истинную вершину события\n",
    "\n",
    "- **Изобразите истинное направление (используйте px, py, pz)"
   ]
  },
  {
   "cell_type": "code",
   "execution_count": null,
   "metadata": {},
   "outputs": [],
   "source": [
    "import itertools\n",
    "import plotly.graph_objs as go\n",
    "import plotly.io as pio\n",
    "from plotly.subplots import make_subplots\n",
    "pio.templates.default = 'plotly_dark'\n",
    "\n",
    "\n",
    "def plot_event(hit, primary):\n",
    "    pass"
   ]
  },
  {
   "cell_type": "code",
   "execution_count": null,
   "metadata": {
    "scrolled": false
   },
   "outputs": [],
   "source": [
    "n1 = np.random.randint(1000)\n",
    "n2 = np.random.randint(1000)\n",
    "\n",
    "plot_event(all_hits[n1], all_primaries[n1])\n",
    "plot_event(all_hits[n2], all_primaries[n2])"
   ]
  },
  {
   "cell_type": "markdown",
   "metadata": {},
   "source": [
    "- 5) Для реконструкции энергии будем использовать подход основанный на агрегированных признаках. То есть подсчитаем некоторые, обобщающие сигнал с оптических модулей, характеристики, как для канала с кол-во хитов, так и для временного канала.  \n",
    "\n",
    "Такими характеристиками могут быть, например: \n",
    "\n",
    "- 1) Общее кол-во хитов на всех оптических модулях\n",
    "- 2) Кол-во загоревшихся оптических модулей\n",
    "- 3) Среднее значение времён первого попадания для загоревшихся опт. модулей\n",
    "- 4) Дисперсия времён первого попадания для загоревшихся опт. модулей\n",
    "- 5) ... Ваши идеи\n",
    "\n",
    "**Подсчитайте их:**\n",
    "\n",
    "**Обратите внимание, что бывают события, в которых не было ни одного хита!**"
   ]
  },
  {
   "cell_type": "code",
   "execution_count": null,
   "metadata": {},
   "outputs": [],
   "source": []
  },
  {
   "cell_type": "markdown",
   "metadata": {},
   "source": [
    "- 6) Сохраним наши признаки в формате pandas DataFrame. То есть в качестве колонок у нас будут признаки, а также добавим последнюю колонку с истинными энергиями: energies."
   ]
  },
  {
   "cell_type": "code",
   "execution_count": null,
   "metadata": {},
   "outputs": [],
   "source": [
    "features_df = pd.DataFrame()\n",
    "features_df['nHits'] = nHits\n",
    "features_df['nModules'] = nModules\n",
    "features_df['x_cc'] = x_cc\n",
    "features_df['y_cc'] = y_cc\n",
    "features_df['r_cc'] = r_cc\n",
    "features_df['fht_mean'] = fht_mean\n",
    "features_df['fht_std'] = fht_std\n",
    "features_df['edep'] = energies\n",
    "features_df"
   ]
  },
  {
   "cell_type": "markdown",
   "metadata": {},
   "source": [
    "- 7) Посмотрим на матрицу корреляций: "
   ]
  },
  {
   "cell_type": "code",
   "execution_count": null,
   "metadata": {},
   "outputs": [],
   "source": [
    "pio.templates.default = 'plotly_white'\n",
    "\n",
    "corr_matrix = features_df.corr()\n",
    "\n",
    "fig = go.Figure(data=go.Heatmap(\n",
    "          x = corr_matrix.index,\n",
    "          y = corr_matrix.columns,\n",
    "          z = np.abs(corr_matrix.values),\n",
    "          type = 'heatmap',\n",
    "          xgap=0.25,\n",
    "          ygap=0.25,\n",
    "          colorscale = 'Inferno',\n",
    "          name='Real')\n",
    ")\n",
    "\n",
    "fig.update_layout(\n",
    "    width=600,\n",
    "    height=600,\n",
    "    xaxis_nticks=corr_matrix.index.shape[0],\n",
    "    yaxis_nticks=corr_matrix.index.shape[0],\n",
    "    font=dict(\n",
    "        family=\"Times New Roman\",\n",
    "        size=15,\n",
    "        color=\"Black\"\n",
    "    )\n",
    ")\n",
    "\n",
    "fig.show()"
   ]
  },
  {
   "cell_type": "markdown",
   "metadata": {},
   "source": [
    "- 8) Посмотрим на зависимость Edep(nHits) с помощью go.Historgam2d, то есть 2D гистограммы.\n",
    "\n",
    "Напишите функцию для отрисовки  2D гистограммы с помощью Plotly"
   ]
  },
  {
   "cell_type": "code",
   "execution_count": null,
   "metadata": {},
   "outputs": [],
   "source": [
    "def corr_2d_vis(x, y, xaxis_title, yaxis_title):\n",
    "    pass"
   ]
  },
  {
   "cell_type": "code",
   "execution_count": null,
   "metadata": {},
   "outputs": [],
   "source": [
    "corr_2d_vis(features_df.nHits, features_df.edep, 'nHits', 'Deposited energy, Mev')"
   ]
  },
  {
   "cell_type": "markdown",
   "metadata": {},
   "source": [
    "### Перейдем к обучении моделей:\n",
    "\n",
    "- 9) Возьмите XGBRegressor из xgboost или постройне нейронную сеть, используя Keras. \n",
    "- Разделите данные на тренировочные и тестовые используя sklearn.model_selection.train_test_split\n",
    "- Для нейронной сети не забудьте про нормализацию данных!\n",
    "- Обучите базовую модель\n",
    "- **Поподбирайте гиперпараметры, пооптимизируйте архитектуру"
   ]
  },
  {
   "cell_type": "code",
   "execution_count": null,
   "metadata": {},
   "outputs": [],
   "source": []
  },
  {
   "cell_type": "markdown",
   "metadata": {},
   "source": [
    "- 10) Используем нашу функции для 2D гистограмм для отрисовки результатов предсказания модели"
   ]
  },
  {
   "cell_type": "code",
   "execution_count": null,
   "metadata": {},
   "outputs": [],
   "source": [
    "pred_df = pd.DataFrame([model.predict(X_val), y_val]).T\n",
    "pred_df.columns = ['Edep_predict', 'Edep_true']"
   ]
  },
  {
   "cell_type": "code",
   "execution_count": null,
   "metadata": {},
   "outputs": [],
   "source": [
    "corr_2d_vis(pred_df.Edep_predict, pred_df.Edep_true,\n",
    "            'Reconstructed deposited energy, MeV', 'Deposited energy, MeV')"
   ]
  },
  {
   "cell_type": "markdown",
   "metadata": {},
   "source": [
    "- 11) Теперь более внимательно посмотрим на ошибки"
   ]
  },
  {
   "cell_type": "code",
   "execution_count": null,
   "metadata": {},
   "outputs": [],
   "source": [
    "dE = (pred_df.Edep_true - pred_df.Edep_predict) / pred_df.Edep_true * 100"
   ]
  },
  {
   "cell_type": "code",
   "execution_count": null,
   "metadata": {},
   "outputs": [],
   "source": [
    "corr_2d_vis(pred_df.Edep_true, dE, 'Deposited energy, MeV',\n",
    "            r\"$\\large dE = \\frac{E_{\\rm dep} - E_{\\rm pred}}{E_{\\rm dep}} \\cdot 100, [\\%]$\",)"
   ]
  },
  {
   "cell_type": "markdown",
   "metadata": {},
   "source": [
    "- 12) Выведите основные метрики для регрессии (MAPE, RMSE, MAE, R2, ...)"
   ]
  },
  {
   "cell_type": "code",
   "execution_count": null,
   "metadata": {},
   "outputs": [],
   "source": []
  }
 ],
 "metadata": {
  "kernelspec": {
   "display_name": "Python 3",
   "language": "python",
   "name": "python3"
  },
  "language_info": {
   "codemirror_mode": {
    "name": "ipython",
    "version": 3
   },
   "file_extension": ".py",
   "mimetype": "text/x-python",
   "name": "python",
   "nbconvert_exporter": "python",
   "pygments_lexer": "ipython3",
   "version": "3.8.5"
  }
 },
 "nbformat": 4,
 "nbformat_minor": 4
}
